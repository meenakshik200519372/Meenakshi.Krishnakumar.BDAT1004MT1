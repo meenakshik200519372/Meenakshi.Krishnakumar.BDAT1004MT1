{
  "nbformat": 4,
  "nbformat_minor": 0,
  "metadata": {
    "colab": {
      "provenance": []
    },
    "kernelspec": {
      "name": "python3",
      "display_name": "Python 3"
    },
    "language_info": {
      "name": "python"
    }
  },
  "cells": [
    {
      "cell_type": "markdown",
      "source": [
        "# Question 23"
      ],
      "metadata": {
        "id": "zBzs06i695JO"
      }
    },
    {
      "cell_type": "markdown",
      "source": [
        "### Question\n",
        "\n",
        "Develop a recursive function tough() that takes two nonnegative integer arguments and outputs a pattern as shown below. Hint: The first argument represents the indentation of the pattern, where the second argument -- always a pattern of 2 indicates the number *s in the longest line of *s in the pattern\n",
        "\n"
      ],
      "metadata": {
        "id": "uY-0aYzc97F1"
      }
    },
    {
      "cell_type": "markdown",
      "source": [
        "### Answer"
      ],
      "metadata": {
        "id": "7sP8447lBmny"
      }
    },
    {
      "cell_type": "code",
      "execution_count": 45,
      "metadata": {
        "id": "BHpVEzJE9qZS"
      },
      "outputs": [],
      "source": [
        "def tough(indent, max_n):\n",
        "\n",
        "  if max_n > 0: # only if the second argument is greater than 0\n",
        "\n",
        "    next_iteration = int(max_n/2) # half the number for next iteration\n",
        "\n",
        "    tough(indent, next_iteration) # recursively generate the pattern for half the number and same indentation\n",
        "\n",
        "    print(\" \"*indent, end=\"\") # print the pattern (indentation) without ending the line\n",
        "    print(\"*\"*max_n) # print the pattern (*s)\n",
        "\n",
        "    tough(indent+next_iteration, next_iteration) # recursively generate the pattern for half the number of *s and that much more indentation\n",
        ""
      ]
    },
    {
      "cell_type": "code",
      "source": [
        "tough(0, 0)"
      ],
      "metadata": {
        "id": "Ba10ZmveAfIA"
      },
      "execution_count": 46,
      "outputs": []
    },
    {
      "cell_type": "code",
      "source": [
        "tough(0, 1)"
      ],
      "metadata": {
        "colab": {
          "base_uri": "https://localhost:8080/"
        },
        "id": "IRNVxPgZAhmQ",
        "outputId": "51440b3d-e8fa-430a-b62d-875552c8dbe7"
      },
      "execution_count": 47,
      "outputs": [
        {
          "output_type": "stream",
          "name": "stdout",
          "text": [
            "*\n"
          ]
        }
      ]
    },
    {
      "cell_type": "code",
      "source": [
        "tough(0, 2)"
      ],
      "metadata": {
        "colab": {
          "base_uri": "https://localhost:8080/"
        },
        "id": "7PZo_QC8AlSi",
        "outputId": "9dd57a07-1634-444a-c05f-641a8d389602"
      },
      "execution_count": 48,
      "outputs": [
        {
          "output_type": "stream",
          "name": "stdout",
          "text": [
            "*\n",
            "**\n",
            " *\n"
          ]
        }
      ]
    },
    {
      "cell_type": "code",
      "source": [
        "tough(0, 4)"
      ],
      "metadata": {
        "colab": {
          "base_uri": "https://localhost:8080/"
        },
        "id": "Tfgk9dqh_Hv0",
        "outputId": "1be22be1-d68f-4fb0-f100-dbcdc12cc861"
      },
      "execution_count": 49,
      "outputs": [
        {
          "output_type": "stream",
          "name": "stdout",
          "text": [
            "*\n",
            "**\n",
            " *\n",
            "****\n",
            "  *\n",
            "  **\n",
            "   *\n"
          ]
        }
      ]
    },
    {
      "cell_type": "code",
      "source": [
        "tough(10, 4)"
      ],
      "metadata": {
        "colab": {
          "base_uri": "https://localhost:8080/"
        },
        "id": "vEyhBf36_J79",
        "outputId": "5b16444e-2372-4557-9031-9772d0d1eebb"
      },
      "execution_count": 50,
      "outputs": [
        {
          "output_type": "stream",
          "name": "stdout",
          "text": [
            "          *\n",
            "          **\n",
            "           *\n",
            "          ****\n",
            "            *\n",
            "            **\n",
            "             *\n"
          ]
        }
      ]
    },
    {
      "cell_type": "code",
      "source": [],
      "metadata": {
        "id": "qiLR6Ei0HiVK"
      },
      "execution_count": null,
      "outputs": []
    }
  ]
}