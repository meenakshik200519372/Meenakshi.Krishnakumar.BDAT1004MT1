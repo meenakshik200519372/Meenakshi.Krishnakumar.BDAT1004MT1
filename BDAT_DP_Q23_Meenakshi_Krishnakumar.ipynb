{
  "nbformat": 4,
  "nbformat_minor": 0,
  "metadata": {
    "colab": {
      "provenance": []
    },
    "kernelspec": {
      "name": "python3",
      "display_name": "Python 3"
    },
    "language_info": {
      "name": "python"
    }
  },
  "cells": [
    {
      "cell_type": "markdown",
      "source": [
        "# Question 23"
      ],
      "metadata": {
        "id": "zBzs06i695JO"
      }
    },
    {
      "cell_type": "markdown",
      "source": [
        "### Question\n",
        "\n",
        "Develop a recursive function tough() that takes two nonnegative integer arguments and outputs a pattern as shown below. Hint: The first argument represents the indentation of the pattern, where the second argument -- always a pattern of 2 indicates the number *s in the longest line of *s in the pattern\n",
        "\n"
      ],
      "metadata": {
        "id": "uY-0aYzc97F1"
      }
    },
    {
      "cell_type": "markdown",
      "source": [
        "### Answer"
      ],
      "metadata": {
        "id": "7sP8447lBmny"
      }
    },
    {
      "cell_type": "code",
      "execution_count": 11,
      "metadata": {
        "id": "BHpVEzJE9qZS"
      },
      "outputs": [],
      "source": [
        "def tough(indent, max_n):\n",
        "\n",
        "  if max_n > 0: # only if the second argument is greater than 0\n",
        "\n",
        "    tough(indent, int(max_n/2)) # recursively generate the pattern for half the number\n",
        "\n",
        "    print(\" \"*indent, end=\"\") # print the pattern (indentation)\n",
        "    print(\"*\"*max_n) # print the pattern (*s)\n",
        "\n",
        "    tough(indent+1, int(max_n/2)) # recursively generate the pattern for half the number with additional indent\n",
        ""
      ]
    },
    {
      "cell_type": "code",
      "source": [
        "tough(0, 0)"
      ],
      "metadata": {
        "id": "Ba10ZmveAfIA"
      },
      "execution_count": 16,
      "outputs": []
    },
    {
      "cell_type": "code",
      "source": [
        "tough(0, 1)"
      ],
      "metadata": {
        "colab": {
          "base_uri": "https://localhost:8080/"
        },
        "id": "IRNVxPgZAhmQ",
        "outputId": "6f135e64-334f-4560-8cff-1235a80f8934"
      },
      "execution_count": 17,
      "outputs": [
        {
          "output_type": "stream",
          "name": "stdout",
          "text": [
            "*\n"
          ]
        }
      ]
    },
    {
      "cell_type": "code",
      "source": [
        "tough(0, 2)"
      ],
      "metadata": {
        "colab": {
          "base_uri": "https://localhost:8080/"
        },
        "id": "7PZo_QC8AlSi",
        "outputId": "59974d88-da89-4f06-fbc4-b916fcc0c34c"
      },
      "execution_count": 18,
      "outputs": [
        {
          "output_type": "stream",
          "name": "stdout",
          "text": [
            "*\n",
            "**\n",
            " *\n"
          ]
        }
      ]
    },
    {
      "cell_type": "code",
      "source": [
        "tough(0, 4)"
      ],
      "metadata": {
        "colab": {
          "base_uri": "https://localhost:8080/"
        },
        "id": "Tfgk9dqh_Hv0",
        "outputId": "ab0e0694-47bb-467f-8700-1b3c442b9113"
      },
      "execution_count": 12,
      "outputs": [
        {
          "output_type": "stream",
          "name": "stdout",
          "text": [
            "*\n",
            "**\n",
            " *\n",
            "****\n",
            " *\n",
            " **\n",
            "  *\n"
          ]
        }
      ]
    },
    {
      "cell_type": "code",
      "source": [
        "tough(10, 4)"
      ],
      "metadata": {
        "colab": {
          "base_uri": "https://localhost:8080/"
        },
        "id": "vEyhBf36_J79",
        "outputId": "3413d976-984d-4d90-da33-b3ae67323d8f"
      },
      "execution_count": 15,
      "outputs": [
        {
          "output_type": "stream",
          "name": "stdout",
          "text": [
            "          *\n",
            "          **\n",
            "           *\n",
            "          ****\n",
            "           *\n",
            "           **\n",
            "            *\n"
          ]
        }
      ]
    },
    {
      "cell_type": "code",
      "source": [],
      "metadata": {
        "id": "HSkQod-vBDrt"
      },
      "execution_count": null,
      "outputs": []
    }
  ]
}