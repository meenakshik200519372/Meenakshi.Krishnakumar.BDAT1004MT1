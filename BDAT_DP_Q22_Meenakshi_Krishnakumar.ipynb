{
  "nbformat": 4,
  "nbformat_minor": 0,
  "metadata": {
    "colab": {
      "provenance": []
    },
    "kernelspec": {
      "name": "python3",
      "display_name": "Python 3"
    },
    "language_info": {
      "name": "python"
    }
  },
  "cells": [
    {
      "cell_type": "markdown",
      "source": [
        "# Question 22"
      ],
      "metadata": {
        "id": "Sz6sTvk04fvC"
      }
    },
    {
      "cell_type": "markdown",
      "source": [
        "### Question\n",
        "\n",
        "**Column Name  - Type**\n",
        "\n",
        "id - int\n",
        "\n",
        "recordDate - date\n",
        "\n",
        "temperature - int\n",
        "\n",
        "id is the column with unique values for this table.\n",
        "\n",
        "This table contains information about the temperature on a certain day.\n",
        "\n",
        "Write a solution to find all dates' Id with higher temperatures compared to its previous dates (yesterday).\n",
        "\n",
        "Return the result table in any order.\n",
        "\n",
        "Please use the following input Weather table for your solution. To receive full marks you will need to create the database, create the table, insert the data below and execute the SQL query.\n",
        "\n",
        ""
      ],
      "metadata": {
        "id": "ihpyoZHc4iIf"
      }
    },
    {
      "cell_type": "markdown",
      "source": [
        "### Answer"
      ],
      "metadata": {
        "id": "HnmBo9vs9cd8"
      }
    },
    {
      "cell_type": "code",
      "source": [
        "import sqlite3\n",
        "con = sqlite3.connect('temperature.sqlite') # create a DB\n",
        "cur = con.cursor()\n",
        "cur.execute(\"CREATE TABLE df (id int, recordDate date, temperature int)\") # create a table\n",
        "data = [[1, '2015-01-01', 10],\n",
        "        [2, '2015-01-02', 25],\n",
        "        [3, '2015-01-03', 20],\n",
        "        [4, '2015-01-04', 30]]\n",
        "for row in data:\n",
        "  cur.execute(f\"INSERT INTO df VALUES ('{row[0]}', '{row[1]}', '{row[2]}')\") # inserting the data iteratively\n",
        "con.commit()\n",
        "con.close()"
      ],
      "metadata": {
        "id": "HL_ksKoz4h1j"
      },
      "execution_count": 1,
      "outputs": []
    },
    {
      "cell_type": "code",
      "execution_count": 2,
      "metadata": {
        "colab": {
          "base_uri": "https://localhost:8080/"
        },
        "id": "V8w0WoyM4ZEN",
        "outputId": "79b261f7-6d94-49cb-c2a5-96f5834e360e"
      },
      "outputs": [
        {
          "output_type": "execute_result",
          "data": {
            "text/plain": [
              "[(1, '2015-01-01', 10),\n",
              " (2, '2015-01-02', 25),\n",
              " (3, '2015-01-03', 20),\n",
              " (4, '2015-01-04', 30)]"
            ]
          },
          "metadata": {},
          "execution_count": 2
        }
      ],
      "source": [
        "# checking the loaded data\n",
        "con = sqlite3.connect('temperature.sqlite')\n",
        "cur = con.cursor()\n",
        "cur.execute('SELECT * FROM df')\n",
        "cur.fetchall()"
      ]
    },
    {
      "cell_type": "code",
      "source": [
        "# fetching all the IDs with temperature higher than previous day's temperature\n",
        "con = sqlite3.connect('temperature.sqlite')\n",
        "cur = con.cursor()\n",
        "cur.execute(\"\"\"SELECT t1.id\n",
        "               FROM df t1\n",
        "               JOIN df t2 ON t1.recordDate = DATE(t2.recordDate, '+1 days')\n",
        "               WHERE t1.temperature > t2.temperature;\n",
        "            \"\"\")\n",
        "cur.fetchall()"
      ],
      "metadata": {
        "colab": {
          "base_uri": "https://localhost:8080/"
        },
        "id": "Xa6ZXCvA6HJi",
        "outputId": "3804601e-ae7f-4fb2-883a-28c92a35cf0b"
      },
      "execution_count": 11,
      "outputs": [
        {
          "output_type": "execute_result",
          "data": {
            "text/plain": [
              "[(2,), (4,)]"
            ]
          },
          "metadata": {},
          "execution_count": 11
        }
      ]
    },
    {
      "cell_type": "code",
      "source": [],
      "metadata": {
        "id": "0B1j1Jff8_f9"
      },
      "execution_count": null,
      "outputs": []
    }
  ]
}