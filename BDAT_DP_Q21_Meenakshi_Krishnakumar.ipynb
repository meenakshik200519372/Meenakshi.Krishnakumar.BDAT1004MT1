{
  "nbformat": 4,
  "nbformat_minor": 0,
  "metadata": {
    "colab": {
      "provenance": []
    },
    "kernelspec": {
      "name": "python3",
      "display_name": "Python 3"
    },
    "language_info": {
      "name": "python"
    }
  },
  "cells": [
    {
      "cell_type": "markdown",
      "source": [
        "# Question 21"
      ],
      "metadata": {
        "id": "l8hQg5-G9hgr"
      }
    },
    {
      "cell_type": "markdown",
      "source": [
        "### Question\n",
        "\n",
        "__ init() __: Constructor that takes as input a pair of Point objects that represent the ends points of the line segment\n",
        "\n",
        "Length(): returns the length if the segment\n",
        "\n",
        "Slope(): returns the slope of the segment of none if the slope is unbounded\n",
        "\n",
        "    >>> p1 = Point(3,4)\n",
        "    >>> p2 = Point()\n",
        "    >>> s = Segment(p1,p2)\n",
        "    >>> s.length()\n",
        "    5.0\n",
        "    >>> s.slope()\n",
        "    0.75"
      ],
      "metadata": {
        "id": "ZraRcjYT9jiH"
      }
    },
    {
      "cell_type": "markdown",
      "source": [
        "### Answer"
      ],
      "metadata": {
        "id": "ZFkRRv6K9lXf"
      }
    },
    {
      "cell_type": "code",
      "execution_count": 36,
      "metadata": {
        "id": "_Xeh9Gclyh1l"
      },
      "outputs": [],
      "source": [
        "class Point():\n",
        "  \"\"\"\n",
        "  Class to store a point\n",
        "  \"\"\"\n",
        "\n",
        "  def __init__(self, x_coordinate=0, y_coordinate=0):\n",
        "    self.x_coordinate = x_coordinate\n",
        "    self.y_coordinate = y_coordinate\n",
        "\n",
        "  def return_x(self):\n",
        "    \"\"\"\n",
        "    Returns the x coordinate of the point\n",
        "    \"\"\"\n",
        "    return(self.x_coordinate)\n",
        "\n",
        "  def return_y(self):\n",
        "    \"\"\"\n",
        "    Returns the y coordinate of the point\n",
        "    \"\"\"\n",
        "    return(self.y_coordinate)\n",
        "\n",
        "class Segment():\n",
        "  \"\"\"\n",
        "  Class to store a line segment\n",
        "  \"\"\"\n",
        "\n",
        "  def __init__(self, p1=None, p2=None):\n",
        "    self.p1 = p1\n",
        "    self.p2 = p2\n",
        "    self.bounded = True\n",
        "\n",
        "    # checks if the first point is given\n",
        "    try:\n",
        "      self.p1_x = self.p1.return_x()\n",
        "      self.p1_y = self.p1.return_y()\n",
        "    except AttributeError: # if not, the segment is set as unbounded\n",
        "      self.bounded = False\n",
        "\n",
        "    # checks if the second point is given\n",
        "    try:\n",
        "      self.p2_x = self.p2.return_x()\n",
        "      self.p2_y = self.p2.return_y()\n",
        "    except AttributeError: # if not, the segment is set as unbounded\n",
        "      self.bounded = False\n",
        "\n",
        "  def length(self):\n",
        "    if self.bounded: # if bounded, calculate and return the length\n",
        "      l = ((self.p1_x-self.p2_x)**2 + (self.p1_y-self.p2_y)**2)**(1/2)\n",
        "      return(l)\n",
        "    else: # if not, return a message\n",
        "      return(\"The segment is unbounded and hence its length is not defined.\")\n",
        "\n",
        "  def slope(self):\n",
        "    if self.bounded: # if bounded,\n",
        "      try: # try to calculate & return the slope; if the segment is parallel to y-axis, ZeroDivisionError will be thrown\n",
        "        slope = (self.p1_y-self.p2_y)/(self.p1_x-self.p2_x)\n",
        "        return(slope)\n",
        "      except ZeroDivisionError: # when the segment is parallel to the y-axis, a message is shown.\n",
        "        return(\"The given segment is parallel to the y-axis and hence its slope is undefined.\")\n",
        "    else: # if unbounded, None is returned\n",
        "      return"
      ]
    },
    {
      "cell_type": "code",
      "source": [
        "# sample bounded segment\n",
        "p1 = Point(3, 4)\n",
        "p2 = Point() # point (0, 0)\n",
        "s = Segment(p1, p2) # a bounded segment\n",
        "s.length()"
      ],
      "metadata": {
        "colab": {
          "base_uri": "https://localhost:8080/"
        },
        "id": "eIJwwQ8VyoiH",
        "outputId": "f30fe390-fb84-446c-952c-9ca50c94b0bb"
      },
      "execution_count": 37,
      "outputs": [
        {
          "output_type": "execute_result",
          "data": {
            "text/plain": [
              "5.0"
            ]
          },
          "metadata": {},
          "execution_count": 37
        }
      ]
    },
    {
      "cell_type": "code",
      "source": [
        "s.slope()"
      ],
      "metadata": {
        "colab": {
          "base_uri": "https://localhost:8080/"
        },
        "id": "p98O4NUG2wWS",
        "outputId": "eb4b1eec-80f7-4121-85f7-ab360a12341f"
      },
      "execution_count": 38,
      "outputs": [
        {
          "output_type": "execute_result",
          "data": {
            "text/plain": [
              "1.3333333333333333"
            ]
          },
          "metadata": {},
          "execution_count": 38
        }
      ]
    },
    {
      "cell_type": "code",
      "source": [
        "# sample unbounded segment\n",
        "s = Segment(p1)\n",
        "s.length()"
      ],
      "metadata": {
        "colab": {
          "base_uri": "https://localhost:8080/",
          "height": 36
        },
        "id": "lkgA8tAU03pq",
        "outputId": "6e4b6d80-00ff-4d56-d9ab-f24296033663"
      },
      "execution_count": 40,
      "outputs": [
        {
          "output_type": "execute_result",
          "data": {
            "text/plain": [
              "'The segment is unbounded and hence its length is not defined.'"
            ],
            "application/vnd.google.colaboratory.intrinsic+json": {
              "type": "string"
            }
          },
          "metadata": {},
          "execution_count": 40
        }
      ]
    },
    {
      "cell_type": "code",
      "source": [
        "s.slope() # returns none"
      ],
      "metadata": {
        "id": "1crPkeI434Q9"
      },
      "execution_count": 42,
      "outputs": []
    },
    {
      "cell_type": "code",
      "source": [
        "# sample segment parallel to y-axis\n",
        "s = Segment(Point(3, 4), Point(3, 5))\n",
        "s.slope()"
      ],
      "metadata": {
        "colab": {
          "base_uri": "https://localhost:8080/",
          "height": 36
        },
        "id": "jVIqHP5i08iI",
        "outputId": "15536492-2662-4204-b44b-496df6b0e666"
      },
      "execution_count": 43,
      "outputs": [
        {
          "output_type": "execute_result",
          "data": {
            "text/plain": [
              "'The given segment is parallel to the y-axis and hence its slope is undefined.'"
            ],
            "application/vnd.google.colaboratory.intrinsic+json": {
              "type": "string"
            }
          },
          "metadata": {},
          "execution_count": 43
        }
      ]
    },
    {
      "cell_type": "code",
      "source": [],
      "metadata": {
        "id": "cps2oJqA3Pju"
      },
      "execution_count": null,
      "outputs": []
    }
  ]
}